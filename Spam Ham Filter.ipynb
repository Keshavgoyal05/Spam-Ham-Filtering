{
 "cells": [
  {
   "cell_type": "code",
   "execution_count": 2,
   "metadata": {},
   "outputs": [],
   "source": [
    "import os\n",
    "import io\n",
    "import numpy\n",
    "from pandas import DataFrame\n",
    "from sklearn.feature_extraction.text import CountVectorizer\n",
    "from sklearn.naive_bayes import MultinomialNB"
   ]
  },
  {
   "cell_type": "code",
   "execution_count": 3,
   "metadata": {},
   "outputs": [],
   "source": [
    "\n",
    "def readFiles(path):\n",
    "    for root, dirnames, filenames in os.walk(path):\n",
    "        for filename in filenames:\n",
    "            path = os.path.join(root, filename)\n",
    "\n",
    "            inBody = False\n",
    "            lines = []\n",
    "            f = io.open(path, 'r', encoding='latin1')\n",
    "            for line in f:\n",
    "                if inBody:\n",
    "                    lines.append(line)\n",
    "                elif line == '\\n':\n",
    "                    inBody = True\n",
    "            f.close()\n",
    "            message = '\\n'.join(lines)\n",
    "            yield path, message\n",
    "\n",
    "\n",
    "def dataFrameFromDirectory(path, classification):\n",
    "    rows = []\n",
    "    index = []\n",
    "    for filename, message in readFiles(path):\n",
    "        rows.append({'message': message, 'class': classification})\n",
    "        index.append(filename)\n",
    "\n",
    "    return DataFrame(rows, index=index)\n",
    "\n",
    "data = DataFrame({'message': [], 'class': []})\n",
    "\n",
    "data = data.append(dataFrameFromDirectory(os.path.join('spam'), 'spam'))\n",
    "data = data.append(dataFrameFromDirectory(os.path.join('ham'), 'ham'))\n",
    "\n"
   ]
  },
  {
   "cell_type": "code",
   "execution_count": 18,
   "metadata": {},
   "outputs": [
    {
     "data": {
      "text/html": [
       "<div>\n",
       "<style scoped>\n",
       "    .dataframe tbody tr th:only-of-type {\n",
       "        vertical-align: middle;\n",
       "    }\n",
       "\n",
       "    .dataframe tbody tr th {\n",
       "        vertical-align: top;\n",
       "    }\n",
       "\n",
       "    .dataframe thead th {\n",
       "        text-align: right;\n",
       "    }\n",
       "</style>\n",
       "<table border=\"1\" class=\"dataframe\">\n",
       "  <thead>\n",
       "    <tr style=\"text-align: right;\">\n",
       "      <th></th>\n",
       "      <th>message</th>\n",
       "      <th>class</th>\n",
       "    </tr>\n",
       "  </thead>\n",
       "  <tbody>\n",
       "    <tr>\n",
       "      <th>spam\\00001.7848dde101aa985090474a91ec93fcf0</th>\n",
       "      <td>&lt;!DOCTYPE HTML PUBLIC \"-//W3C//DTD HTML 4.0 Tr...</td>\n",
       "      <td>spam</td>\n",
       "    </tr>\n",
       "    <tr>\n",
       "      <th>spam\\00002.d94f1b97e48ed3b553b3508d116e6a09</th>\n",
       "      <td>1) Fight The Risk of Cancer!\\n\\nhttp://www.adc...</td>\n",
       "      <td>spam</td>\n",
       "    </tr>\n",
       "    <tr>\n",
       "      <th>spam\\00003.2ee33bc6eacdb11f38d052c44819ba6c</th>\n",
       "      <td>1) Fight The Risk of Cancer!\\n\\nhttp://www.adc...</td>\n",
       "      <td>spam</td>\n",
       "    </tr>\n",
       "    <tr>\n",
       "      <th>spam\\00004.eac8de8d759b7e74154f142194282724</th>\n",
       "      <td>##############################################...</td>\n",
       "      <td>spam</td>\n",
       "    </tr>\n",
       "    <tr>\n",
       "      <th>spam\\00005.57696a39d7d84318ce497886896bf90d</th>\n",
       "      <td>I thought you might like these:\\n\\n1) Slim Dow...</td>\n",
       "      <td>spam</td>\n",
       "    </tr>\n",
       "    <tr>\n",
       "      <th>spam\\00006.5ab5620d3d7c6c0db76234556a16f6c1</th>\n",
       "      <td>A POWERHOUSE GIFTING PROGRAM You Don't Want To...</td>\n",
       "      <td>spam</td>\n",
       "    </tr>\n",
       "    <tr>\n",
       "      <th>spam\\00007.d8521faf753ff9ee989122f6816f87d7</th>\n",
       "      <td>Help wanted.  We are a 14 year old fortune 500...</td>\n",
       "      <td>spam</td>\n",
       "    </tr>\n",
       "    <tr>\n",
       "      <th>spam\\00008.dfd941deb10f5eed78b1594b131c9266</th>\n",
       "      <td>&lt;html&gt;\\n\\n&lt;head&gt;\\n\\n&lt;title&gt;ReliaQuote - Save U...</td>\n",
       "      <td>spam</td>\n",
       "    </tr>\n",
       "    <tr>\n",
       "      <th>spam\\00009.027bf6e0b0c4ab34db3ce0ea4bf2edab</th>\n",
       "      <td>TIRED OF THE BULL OUT THERE?\\n\\nWant To Stop L...</td>\n",
       "      <td>spam</td>\n",
       "    </tr>\n",
       "    <tr>\n",
       "      <th>spam\\00010.445affef4c70feec58f9198cfbc22997</th>\n",
       "      <td>Dear ricardo1 ,\\n\\n\\n\\n&lt;html&gt;\\n\\n&lt;body&gt;\\n\\n&lt;ce...</td>\n",
       "      <td>spam</td>\n",
       "    </tr>\n",
       "  </tbody>\n",
       "</table>\n",
       "</div>"
      ],
      "text/plain": [
       "                                                                                       message  \\\n",
       "spam\\00001.7848dde101aa985090474a91ec93fcf0  <!DOCTYPE HTML PUBLIC \"-//W3C//DTD HTML 4.0 Tr...   \n",
       "spam\\00002.d94f1b97e48ed3b553b3508d116e6a09  1) Fight The Risk of Cancer!\\n\\nhttp://www.adc...   \n",
       "spam\\00003.2ee33bc6eacdb11f38d052c44819ba6c  1) Fight The Risk of Cancer!\\n\\nhttp://www.adc...   \n",
       "spam\\00004.eac8de8d759b7e74154f142194282724  ##############################################...   \n",
       "spam\\00005.57696a39d7d84318ce497886896bf90d  I thought you might like these:\\n\\n1) Slim Dow...   \n",
       "spam\\00006.5ab5620d3d7c6c0db76234556a16f6c1  A POWERHOUSE GIFTING PROGRAM You Don't Want To...   \n",
       "spam\\00007.d8521faf753ff9ee989122f6816f87d7  Help wanted.  We are a 14 year old fortune 500...   \n",
       "spam\\00008.dfd941deb10f5eed78b1594b131c9266  <html>\\n\\n<head>\\n\\n<title>ReliaQuote - Save U...   \n",
       "spam\\00009.027bf6e0b0c4ab34db3ce0ea4bf2edab  TIRED OF THE BULL OUT THERE?\\n\\nWant To Stop L...   \n",
       "spam\\00010.445affef4c70feec58f9198cfbc22997  Dear ricardo1 ,\\n\\n\\n\\n<html>\\n\\n<body>\\n\\n<ce...   \n",
       "\n",
       "                                            class  \n",
       "spam\\00001.7848dde101aa985090474a91ec93fcf0  spam  \n",
       "spam\\00002.d94f1b97e48ed3b553b3508d116e6a09  spam  \n",
       "spam\\00003.2ee33bc6eacdb11f38d052c44819ba6c  spam  \n",
       "spam\\00004.eac8de8d759b7e74154f142194282724  spam  \n",
       "spam\\00005.57696a39d7d84318ce497886896bf90d  spam  \n",
       "spam\\00006.5ab5620d3d7c6c0db76234556a16f6c1  spam  \n",
       "spam\\00007.d8521faf753ff9ee989122f6816f87d7  spam  \n",
       "spam\\00008.dfd941deb10f5eed78b1594b131c9266  spam  \n",
       "spam\\00009.027bf6e0b0c4ab34db3ce0ea4bf2edab  spam  \n",
       "spam\\00010.445affef4c70feec58f9198cfbc22997  spam  "
      ]
     },
     "execution_count": 18,
     "metadata": {},
     "output_type": "execute_result"
    }
   ],
   "source": [
    "data.head(10)"
   ]
  },
  {
   "cell_type": "code",
   "execution_count": 19,
   "metadata": {},
   "outputs": [
    {
     "data": {
      "text/html": [
       "<div>\n",
       "<style scoped>\n",
       "    .dataframe tbody tr th:only-of-type {\n",
       "        vertical-align: middle;\n",
       "    }\n",
       "\n",
       "    .dataframe tbody tr th {\n",
       "        vertical-align: top;\n",
       "    }\n",
       "\n",
       "    .dataframe thead th {\n",
       "        text-align: right;\n",
       "    }\n",
       "</style>\n",
       "<table border=\"1\" class=\"dataframe\">\n",
       "  <thead>\n",
       "    <tr style=\"text-align: right;\">\n",
       "      <th></th>\n",
       "      <th>message</th>\n",
       "      <th>class</th>\n",
       "    </tr>\n",
       "  </thead>\n",
       "  <tbody>\n",
       "    <tr>\n",
       "      <th>ham\\02491.c26245be2a5096fa86647d594561c511</th>\n",
       "      <td>Hi all.\\n\\nDoes anyone know how to set up dual...</td>\n",
       "      <td>ham</td>\n",
       "    </tr>\n",
       "    <tr>\n",
       "      <th>ham\\02492.6aede44f654a1bbc60c95c7dd770e624</th>\n",
       "      <td>Carlos Luna wrote:\\n\\n\\n\\n&gt;Hi all.\\n\\n&gt;Does an...</td>\n",
       "      <td>ham</td>\n",
       "    </tr>\n",
       "    <tr>\n",
       "      <th>ham\\02493.f9f2870094430b7db8b0c1052b302cf1</th>\n",
       "      <td>Hi all\\n\\n\\n\\n\\n\\nI have a prob when trying to...</td>\n",
       "      <td>ham</td>\n",
       "    </tr>\n",
       "    <tr>\n",
       "      <th>ham\\02494.a14f2d3a9bef3f59aa419b03aee8f871</th>\n",
       "      <td>Tim Chapman writes:\\n\\n\\n\\n&gt; http://news.bbc.c...</td>\n",
       "      <td>ham</td>\n",
       "    </tr>\n",
       "    <tr>\n",
       "      <th>ham\\02495.5064946e77b3046873da91fc47656465</th>\n",
       "      <td>&gt; I had the same problem when installing Win o...</td>\n",
       "      <td>ham</td>\n",
       "    </tr>\n",
       "    <tr>\n",
       "      <th>ham\\02496.aae0c81581895acfe65323f344340856</th>\n",
       "      <td>Man killed 'trying to surf' on Tube train \\n\\n...</td>\n",
       "      <td>ham</td>\n",
       "    </tr>\n",
       "    <tr>\n",
       "      <th>ham\\02497.60497db0a06c2132ec2374b2898084d3</th>\n",
       "      <td>Hi Gianni,\\n\\n\\n\\nA very good resource for thi...</td>\n",
       "      <td>ham</td>\n",
       "    </tr>\n",
       "    <tr>\n",
       "      <th>ham\\02498.09835f512f156da210efb99fcc523e21</th>\n",
       "      <td>Gianni Ponzi wrote:\\n\\n&gt; I have a prob when tr...</td>\n",
       "      <td>ham</td>\n",
       "    </tr>\n",
       "    <tr>\n",
       "      <th>ham\\02499.b4af165650f138b10f9941f6cc5bce3c</th>\n",
       "      <td>Neale Pickett &lt;neale@woozle.org&gt; writes:\\n\\n\\n...</td>\n",
       "      <td>ham</td>\n",
       "    </tr>\n",
       "    <tr>\n",
       "      <th>ham\\02500.05b3496ce7bca306bed0805425ec8621</th>\n",
       "      <td>\\n\\nHi,\\n\\n\\n\\nI think you need to give us a l...</td>\n",
       "      <td>ham</td>\n",
       "    </tr>\n",
       "  </tbody>\n",
       "</table>\n",
       "</div>"
      ],
      "text/plain": [
       "                                                                                      message  \\\n",
       "ham\\02491.c26245be2a5096fa86647d594561c511  Hi all.\\n\\nDoes anyone know how to set up dual...   \n",
       "ham\\02492.6aede44f654a1bbc60c95c7dd770e624  Carlos Luna wrote:\\n\\n\\n\\n>Hi all.\\n\\n>Does an...   \n",
       "ham\\02493.f9f2870094430b7db8b0c1052b302cf1  Hi all\\n\\n\\n\\n\\n\\nI have a prob when trying to...   \n",
       "ham\\02494.a14f2d3a9bef3f59aa419b03aee8f871  Tim Chapman writes:\\n\\n\\n\\n> http://news.bbc.c...   \n",
       "ham\\02495.5064946e77b3046873da91fc47656465  > I had the same problem when installing Win o...   \n",
       "ham\\02496.aae0c81581895acfe65323f344340856  Man killed 'trying to surf' on Tube train \\n\\n...   \n",
       "ham\\02497.60497db0a06c2132ec2374b2898084d3  Hi Gianni,\\n\\n\\n\\nA very good resource for thi...   \n",
       "ham\\02498.09835f512f156da210efb99fcc523e21  Gianni Ponzi wrote:\\n\\n> I have a prob when tr...   \n",
       "ham\\02499.b4af165650f138b10f9941f6cc5bce3c  Neale Pickett <neale@woozle.org> writes:\\n\\n\\n...   \n",
       "ham\\02500.05b3496ce7bca306bed0805425ec8621  \\n\\nHi,\\n\\n\\n\\nI think you need to give us a l...   \n",
       "\n",
       "                                           class  \n",
       "ham\\02491.c26245be2a5096fa86647d594561c511   ham  \n",
       "ham\\02492.6aede44f654a1bbc60c95c7dd770e624   ham  \n",
       "ham\\02493.f9f2870094430b7db8b0c1052b302cf1   ham  \n",
       "ham\\02494.a14f2d3a9bef3f59aa419b03aee8f871   ham  \n",
       "ham\\02495.5064946e77b3046873da91fc47656465   ham  \n",
       "ham\\02496.aae0c81581895acfe65323f344340856   ham  \n",
       "ham\\02497.60497db0a06c2132ec2374b2898084d3   ham  \n",
       "ham\\02498.09835f512f156da210efb99fcc523e21   ham  \n",
       "ham\\02499.b4af165650f138b10f9941f6cc5bce3c   ham  \n",
       "ham\\02500.05b3496ce7bca306bed0805425ec8621   ham  "
      ]
     },
     "execution_count": 19,
     "metadata": {},
     "output_type": "execute_result"
    }
   ],
   "source": [
    "data.tail(10)"
   ]
  },
  {
   "cell_type": "code",
   "execution_count": 32,
   "metadata": {},
   "outputs": [
    {
     "data": {
      "text/plain": [
       "MultinomialNB(alpha=1.0, class_prior=None, fit_prior=True)"
      ]
     },
     "execution_count": 32,
     "metadata": {},
     "output_type": "execute_result"
    }
   ],
   "source": [
    "#from sklearn.feature_extraction.text import TfidfVectorizer\n",
    "#vectorizer = TfidfVectorizer()\n",
    "vectorizer = CountVectorizer()\n",
    "counts = vectorizer.fit_transform(data['message'])\n",
    "#print(counts)\n",
    "classifier = MultinomialNB()\n",
    "targets = data['class'].values\n",
    "classifier.fit(counts, targets)"
   ]
  },
  {
   "cell_type": "code",
   "execution_count": 33,
   "metadata": {},
   "outputs": [
    {
     "name": "stdout",
     "output_type": "stream",
     "text": [
      "  (0, 25116)\t1\n",
      "  (0, 39611)\t1\n",
      "  (0, 56785)\t1\n",
      "  (1, 9111)\t1\n",
      "  (1, 13840)\t1\n",
      "  (1, 25801)\t1\n",
      "  (1, 26628)\t1\n",
      "  (1, 28173)\t1\n",
      "  (1, 28711)\t1\n",
      "  (1, 40368)\t1\n",
      "  (1, 53817)\t1\n"
     ]
    },
    {
     "data": {
      "text/plain": [
       "array(['spam', 'ham'], dtype='<U4')"
      ]
     },
     "execution_count": 33,
     "metadata": {},
     "output_type": "execute_result"
    }
   ],
   "source": [
    "examples = ['Free Viagra now!!!', \"Hi Bob, how about a game of golf tomorrow?\"]\n",
    "example_counts = vectorizer.transform(examples)\n",
    "print(example_counts)\n",
    "predictions = classifier.predict(example_counts)\n",
    "predictions"
   ]
  },
  {
   "cell_type": "code",
   "execution_count": 34,
   "metadata": {},
   "outputs": [
    {
     "data": {
      "text/plain": [
       "array(['spam', 'ham'], dtype='<U4')"
      ]
     },
     "execution_count": 34,
     "metadata": {},
     "output_type": "execute_result"
    }
   ],
   "source": [
    "examples = ['Free Absolutly Free','hey its urgent to inform you ']\n",
    "example_counts = vectorizer.transform(examples)\n",
    "predictions = classifier.predict(example_counts)\n",
    "predictions"
   ]
  },
  {
   "cell_type": "code",
   "execution_count": 35,
   "metadata": {},
   "outputs": [
    {
     "data": {
      "text/plain": [
       "array(['ham', 'ham', 'spam'], dtype='<U4')"
      ]
     },
     "execution_count": 35,
     "metadata": {},
     "output_type": "execute_result"
    }
   ],
   "source": [
    "e = [ 'can we go for dinner today', 'join PayBox Get rs100 back','tyr our P&G products free of cose']\n",
    "ex = vectorizer.transform(e)\n",
    "p = classifier.predict(ex)\n",
    "p"
   ]
  },
  {
   "cell_type": "code",
   "execution_count": 36,
   "metadata": {},
   "outputs": [
    {
     "data": {
      "text/plain": [
       "array(['ham'], dtype='<U4')"
      ]
     },
     "execution_count": 36,
     "metadata": {},
     "output_type": "execute_result"
    }
   ],
   "source": [
    "e = ['whats the matter wit u']\n",
    "ex = vectorizer.transform(e)\n",
    "p = classifier.predict(ex)\n",
    "p\n"
   ]
  },
  {
   "cell_type": "code",
   "execution_count": null,
   "metadata": {},
   "outputs": [],
   "source": []
  }
 ],
 "metadata": {
  "kernelspec": {
   "display_name": "Python 3",
   "language": "python",
   "name": "python3"
  },
  "language_info": {
   "codemirror_mode": {
    "name": "ipython",
    "version": 3
   },
   "file_extension": ".py",
   "mimetype": "text/x-python",
   "name": "python",
   "nbconvert_exporter": "python",
   "pygments_lexer": "ipython3",
   "version": "3.6.8"
  }
 },
 "nbformat": 4,
 "nbformat_minor": 2
}
